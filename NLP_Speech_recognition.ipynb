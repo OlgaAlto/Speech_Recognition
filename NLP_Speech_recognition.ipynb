{
 "cells": [
  {
   "cell_type": "code",
   "execution_count": 1,
   "metadata": {},
   "outputs": [],
   "source": [
    "# PART1: Speech recognition from audio file\n",
    "import speech_recognition as sr\n",
    "import wave"
   ]
  },
  {
   "cell_type": "code",
   "execution_count": 2,
   "metadata": {},
   "outputs": [],
   "source": [
    "# To recognize speech from an audio file, we have to create an object \n",
    "# of the AudioFile class of the speech_recognition module.\n",
    "sample_audio = sr.AudioFile('well-talk-about-it-soon.wav')"
   ]
  },
  {
   "cell_type": "code",
   "execution_count": 3,
   "metadata": {},
   "outputs": [
    {
     "data": {
      "text/plain": [
       "speech_recognition.AudioFile"
      ]
     },
     "execution_count": 3,
     "metadata": {},
     "output_type": "execute_result"
    }
   ],
   "source": [
    "type(sample_audio)"
   ]
  },
  {
   "cell_type": "code",
   "execution_count": 4,
   "metadata": {},
   "outputs": [],
   "source": [
    "# We will use the recognize_google () method to decrypt our audio files. \n",
    "# The recognize_google () method requires the AudioData object of the speech_recognition module \n",
    "# as a parameter. To convert our audio file to an AudioData object, we can use \n",
    "# the record () method of the Recognizer class.\n",
    "r = sr.Recognizer()\n",
    "with sr.WavFile(\"well-talk-about-it-soon.wav\") as source: \n",
    "    audio = r.record(source)                        \n"
   ]
  },
  {
   "cell_type": "code",
   "execution_count": 5,
   "metadata": {},
   "outputs": [
    {
     "data": {
      "text/plain": [
       "speech_recognition.AudioData"
      ]
     },
     "execution_count": 5,
     "metadata": {},
     "output_type": "execute_result"
    }
   ],
   "source": [
    "type(audio)"
   ]
  },
  {
   "cell_type": "code",
   "execution_count": 6,
   "metadata": {},
   "outputs": [
    {
     "name": "stdout",
     "output_type": "stream",
     "text": [
      "we'll talk about it soon okay I promise alright\n"
     ]
    }
   ],
   "source": [
    "text = r.recognize_google(audio_data=audio, language=\"en\")\n",
    "print(text)"
   ]
  },
  {
   "cell_type": "code",
   "execution_count": 16,
   "metadata": {},
   "outputs": [],
   "source": [
    "# PART2: Recognize speech input from the microphone:\n",
    "import pyaudio"
   ]
  },
  {
   "cell_type": "code",
   "execution_count": 28,
   "metadata": {},
   "outputs": [
    {
     "data": {
      "text/plain": [
       "['Built-in Microphone', 'Built-in Output']"
      ]
     },
     "execution_count": 28,
     "metadata": {},
     "output_type": "execute_result"
    }
   ],
   "source": [
    "# See a list of all the microphones in your system\n",
    "sr.Microphone.list_microphone_names()"
   ]
  },
  {
   "cell_type": "code",
   "execution_count": 27,
   "metadata": {},
   "outputs": [
    {
     "name": "stdout",
     "output_type": "stream",
     "text": [
      "Speak Please\n",
      "Converting Speech to Text...\n",
      "You said: Hi how are you\n"
     ]
    }
   ],
   "source": [
    "import speech_recognition as sr\n",
    "r2 = sr.Recognizer()\n",
    "mic = sr.Microphone()\n",
    "with mic as audio_file:\n",
    "    print(\"Speak Please\")\n",
    "\n",
    "    r2.adjust_for_ambient_noise(audio_file)\n",
    "    audio2 = r2.listen(audio_file)\n",
    "\n",
    "    print(\"Converting Speech to Text...\")\n",
    "    print(\"You said: \" + r2.recognize_google(audio2))"
   ]
  },
  {
   "cell_type": "code",
   "execution_count": null,
   "metadata": {},
   "outputs": [],
   "source": []
  }
 ],
 "metadata": {
  "kernelspec": {
   "display_name": "Python 3",
   "language": "python",
   "name": "python3"
  },
  "language_info": {
   "codemirror_mode": {
    "name": "ipython",
    "version": 3
   },
   "file_extension": ".py",
   "mimetype": "text/x-python",
   "name": "python",
   "nbconvert_exporter": "python",
   "pygments_lexer": "ipython3",
   "version": "3.7.4"
  }
 },
 "nbformat": 4,
 "nbformat_minor": 4
}
